{
  "nbformat": 4,
  "nbformat_minor": 0,
  "metadata": {
    "colab": {
      "provenance": [],
      "authorship_tag": "ABX9TyNIsWZa7IB87uIVcfx8GJws",
      "include_colab_link": true
    },
    "kernelspec": {
      "name": "python3",
      "display_name": "Python 3"
    },
    "language_info": {
      "name": "python"
    }
  },
  "cells": [
    {
      "cell_type": "markdown",
      "metadata": {
        "id": "view-in-github",
        "colab_type": "text"
      },
      "source": [
        "<a href=\"https://colab.research.google.com/github/Jihanablh/Bootcamp_Intelligo_ID/blob/main/ML_Pipelines_Chatbot_and_CNN_Classifier.ipynb\" target=\"_parent\"><img src=\"https://colab.research.google.com/assets/colab-badge.svg\" alt=\"Open In Colab\"/></a>"
      ]
    },
    {
      "cell_type": "markdown",
      "source": [
        "# **Upload dan Pembacaan Dataset**\n",
        "\n",
        "Pada tahap ini, file dataset diunggah dan dibaca menggunakan pandas. Langkah ini penting untuk memulai proses analisis dengan memastikan data sudah tersedia dan dapat diakses dalam format yang sesuai untuk diproses lebih lanjut."
      ],
      "metadata": {
        "id": "d8tJHO3GEV39"
      }
    },
    {
      "cell_type": "code",
      "source": [
        "from google.colab import files\n",
        "\n",
        "uploaded = files.upload()"
      ],
      "metadata": {
        "colab": {
          "base_uri": "https://localhost:8080/",
          "height": 73
        },
        "id": "q5CuhoK8u72y",
        "outputId": "ad0c47a7-3a05-47cc-e17e-e220cb2e2611"
      },
      "execution_count": 1,
      "outputs": [
        {
          "output_type": "display_data",
          "data": {
            "text/plain": [
              "<IPython.core.display.HTML object>"
            ],
            "text/html": [
              "\n",
              "     <input type=\"file\" id=\"files-5c9300ec-76a3-469a-8b6c-78ca1fb1aeb7\" name=\"files[]\" multiple disabled\n",
              "        style=\"border:none\" />\n",
              "     <output id=\"result-5c9300ec-76a3-469a-8b6c-78ca1fb1aeb7\">\n",
              "      Upload widget is only available when the cell has been executed in the\n",
              "      current browser session. Please rerun this cell to enable.\n",
              "      </output>\n",
              "      <script>// Copyright 2017 Google LLC\n",
              "//\n",
              "// Licensed under the Apache License, Version 2.0 (the \"License\");\n",
              "// you may not use this file except in compliance with the License.\n",
              "// You may obtain a copy of the License at\n",
              "//\n",
              "//      http://www.apache.org/licenses/LICENSE-2.0\n",
              "//\n",
              "// Unless required by applicable law or agreed to in writing, software\n",
              "// distributed under the License is distributed on an \"AS IS\" BASIS,\n",
              "// WITHOUT WARRANTIES OR CONDITIONS OF ANY KIND, either express or implied.\n",
              "// See the License for the specific language governing permissions and\n",
              "// limitations under the License.\n",
              "\n",
              "/**\n",
              " * @fileoverview Helpers for google.colab Python module.\n",
              " */\n",
              "(function(scope) {\n",
              "function span(text, styleAttributes = {}) {\n",
              "  const element = document.createElement('span');\n",
              "  element.textContent = text;\n",
              "  for (const key of Object.keys(styleAttributes)) {\n",
              "    element.style[key] = styleAttributes[key];\n",
              "  }\n",
              "  return element;\n",
              "}\n",
              "\n",
              "// Max number of bytes which will be uploaded at a time.\n",
              "const MAX_PAYLOAD_SIZE = 100 * 1024;\n",
              "\n",
              "function _uploadFiles(inputId, outputId) {\n",
              "  const steps = uploadFilesStep(inputId, outputId);\n",
              "  const outputElement = document.getElementById(outputId);\n",
              "  // Cache steps on the outputElement to make it available for the next call\n",
              "  // to uploadFilesContinue from Python.\n",
              "  outputElement.steps = steps;\n",
              "\n",
              "  return _uploadFilesContinue(outputId);\n",
              "}\n",
              "\n",
              "// This is roughly an async generator (not supported in the browser yet),\n",
              "// where there are multiple asynchronous steps and the Python side is going\n",
              "// to poll for completion of each step.\n",
              "// This uses a Promise to block the python side on completion of each step,\n",
              "// then passes the result of the previous step as the input to the next step.\n",
              "function _uploadFilesContinue(outputId) {\n",
              "  const outputElement = document.getElementById(outputId);\n",
              "  const steps = outputElement.steps;\n",
              "\n",
              "  const next = steps.next(outputElement.lastPromiseValue);\n",
              "  return Promise.resolve(next.value.promise).then((value) => {\n",
              "    // Cache the last promise value to make it available to the next\n",
              "    // step of the generator.\n",
              "    outputElement.lastPromiseValue = value;\n",
              "    return next.value.response;\n",
              "  });\n",
              "}\n",
              "\n",
              "/**\n",
              " * Generator function which is called between each async step of the upload\n",
              " * process.\n",
              " * @param {string} inputId Element ID of the input file picker element.\n",
              " * @param {string} outputId Element ID of the output display.\n",
              " * @return {!Iterable<!Object>} Iterable of next steps.\n",
              " */\n",
              "function* uploadFilesStep(inputId, outputId) {\n",
              "  const inputElement = document.getElementById(inputId);\n",
              "  inputElement.disabled = false;\n",
              "\n",
              "  const outputElement = document.getElementById(outputId);\n",
              "  outputElement.innerHTML = '';\n",
              "\n",
              "  const pickedPromise = new Promise((resolve) => {\n",
              "    inputElement.addEventListener('change', (e) => {\n",
              "      resolve(e.target.files);\n",
              "    });\n",
              "  });\n",
              "\n",
              "  const cancel = document.createElement('button');\n",
              "  inputElement.parentElement.appendChild(cancel);\n",
              "  cancel.textContent = 'Cancel upload';\n",
              "  const cancelPromise = new Promise((resolve) => {\n",
              "    cancel.onclick = () => {\n",
              "      resolve(null);\n",
              "    };\n",
              "  });\n",
              "\n",
              "  // Wait for the user to pick the files.\n",
              "  const files = yield {\n",
              "    promise: Promise.race([pickedPromise, cancelPromise]),\n",
              "    response: {\n",
              "      action: 'starting',\n",
              "    }\n",
              "  };\n",
              "\n",
              "  cancel.remove();\n",
              "\n",
              "  // Disable the input element since further picks are not allowed.\n",
              "  inputElement.disabled = true;\n",
              "\n",
              "  if (!files) {\n",
              "    return {\n",
              "      response: {\n",
              "        action: 'complete',\n",
              "      }\n",
              "    };\n",
              "  }\n",
              "\n",
              "  for (const file of files) {\n",
              "    const li = document.createElement('li');\n",
              "    li.append(span(file.name, {fontWeight: 'bold'}));\n",
              "    li.append(span(\n",
              "        `(${file.type || 'n/a'}) - ${file.size} bytes, ` +\n",
              "        `last modified: ${\n",
              "            file.lastModifiedDate ? file.lastModifiedDate.toLocaleDateString() :\n",
              "                                    'n/a'} - `));\n",
              "    const percent = span('0% done');\n",
              "    li.appendChild(percent);\n",
              "\n",
              "    outputElement.appendChild(li);\n",
              "\n",
              "    const fileDataPromise = new Promise((resolve) => {\n",
              "      const reader = new FileReader();\n",
              "      reader.onload = (e) => {\n",
              "        resolve(e.target.result);\n",
              "      };\n",
              "      reader.readAsArrayBuffer(file);\n",
              "    });\n",
              "    // Wait for the data to be ready.\n",
              "    let fileData = yield {\n",
              "      promise: fileDataPromise,\n",
              "      response: {\n",
              "        action: 'continue',\n",
              "      }\n",
              "    };\n",
              "\n",
              "    // Use a chunked sending to avoid message size limits. See b/62115660.\n",
              "    let position = 0;\n",
              "    do {\n",
              "      const length = Math.min(fileData.byteLength - position, MAX_PAYLOAD_SIZE);\n",
              "      const chunk = new Uint8Array(fileData, position, length);\n",
              "      position += length;\n",
              "\n",
              "      const base64 = btoa(String.fromCharCode.apply(null, chunk));\n",
              "      yield {\n",
              "        response: {\n",
              "          action: 'append',\n",
              "          file: file.name,\n",
              "          data: base64,\n",
              "        },\n",
              "      };\n",
              "\n",
              "      let percentDone = fileData.byteLength === 0 ?\n",
              "          100 :\n",
              "          Math.round((position / fileData.byteLength) * 100);\n",
              "      percent.textContent = `${percentDone}% done`;\n",
              "\n",
              "    } while (position < fileData.byteLength);\n",
              "  }\n",
              "\n",
              "  // All done.\n",
              "  yield {\n",
              "    response: {\n",
              "      action: 'complete',\n",
              "    }\n",
              "  };\n",
              "}\n",
              "\n",
              "scope.google = scope.google || {};\n",
              "scope.google.colab = scope.google.colab || {};\n",
              "scope.google.colab._files = {\n",
              "  _uploadFiles,\n",
              "  _uploadFilesContinue,\n",
              "};\n",
              "})(self);\n",
              "</script> "
            ]
          },
          "metadata": {}
        },
        {
          "output_type": "stream",
          "name": "stdout",
          "text": [
            "Saving dataset.csv to dataset.csv\n"
          ]
        }
      ]
    },
    {
      "cell_type": "code",
      "source": [
        "uploaded"
      ],
      "metadata": {
        "colab": {
          "base_uri": "https://localhost:8080/"
        },
        "id": "4vlS89dzZUGk",
        "outputId": "c5600739-ff0f-4845-d9ae-4d1205e053f5"
      },
      "execution_count": 2,
      "outputs": [
        {
          "output_type": "execute_result",
          "data": {
            "text/plain": [
              "{'dataset.csv': b'Question,Answer\\r\\nApa saja kelompok etnis utama di Indonesia?,\"Kelompok etnis utama di Indonesia meliputi Jawa, Sunda, Batak, Minangkabau, Bugis, dan Bali.\"\\r\\nApa saja agama-agama besar yang dianut di Indonesia?,\"Islam, Kristen, Hindu, Budha, Konghucu, dan kepercayaan tradisional.\"\\r\\nSebutkan tiga tarian tradisional Indonesia.,\"Tari Saman, Tari Kecak, dan Tari Pendet.\"\\r\\nApa saja makanan tradisional yang populer di Indonesia?,\"Rendang, nasi goreng, sate, gado-gado, dan soto.\"\\r\\nBahasa apa yang digunakan di Indonesia?,\"Bahasa Indonesia adalah bahasa resmi, dengan ratusan bahasa daerah seperti Jawa, Sunda, Bali, dan Madura.\"\\r\\nApakah ibu kota negara Indonesia?,Jakarta.\\r\\nApa moto nasional Indonesia?,Bhinneka Tunggal Ika (Kesatuan dalam Keragaman).\\r\\nSebutkan beberapa pulau terkenal di Indonesia.,\"Jawa, Sumatra, Borneo (Kalimantan), Sulawesi, dan Papua.\"\\r\\nApa alat musik tradisional Indonesia?,Gamelan dan Angklung.\\r\\nApa pakaian nasional Indonesia?,Kebaya untuk wanita dan batik atau beskap untuk pria.\\r\\nApa sebutan untuk rumah tradisional masyarakat Toraja?,Tongkonan.\\r\\nPulau mana di Indonesia yang terkenal dengan komodo?,\"Komodo Island, part of the Lesser Sunda Islands.\"\\r\\nApa nama teater wayang kulit di Indonesia?,Wayang Kulit.\\r\\nApa nama kota batik yang terkenal di Indonesia?,Solo (Surakarta) and Yogyakarta.\\r\\nApa nama bunga nasional Indonesia?,Jasmine.\\r\\nSebutkan sebuah upacara tradisional dari Bali.,Ngaben (Balinese cremation ceremony).\\r\\nApa nama maskapai penerbangan nasional Indonesia?,Garuda Indonesia.\\r\\nLaut apa yang berbatasan dengan Indonesia di sebelah utara?,The South China Sea.\\r\\nSenjata tradisional Indonesia apa yang juga dianggap sebagai benda spiritual?,Kris (or Keris).\\r\\nApa mata uang yang digunakan di Indonesia?,Rupiah (IDR).\\r\\nApa nama lagu kebangsaan Indonesia?,Indonesia Raya.\\r\\nSebutkan satu senjata tradisional dari Sumatera Barat!,Karih atau keris Minangkabau.\\r\\nApa nama pakaian adat dari Papua?,Koteka adalah baju tradisional Papua.\\r\\nApa nama upacara adat untuk menyambut panen di Jawa Tengah?,Sedekah Bumi.\\r\\nApa nama alat musik tradisional dari Maluku?,Tifa.\\r\\nSuku apa yang mendiami Pulau Nias?,Suku Nias.\\r\\nApa nama rumah adat dari Sumatera Selatan?,Rumah Limas.\\r\\nApa nama tarian khas dari Kalimantan Timur?,Tari Enggang.\\r\\nApa nama candi Buddha terbesar di Indonesia?,Candi Borobudur.\\r\\nApa nama pelabuhan terbesar di Indonesia?,Pelabuhan Tanjung Priok.'}"
            ]
          },
          "metadata": {},
          "execution_count": 2
        }
      ]
    },
    {
      "cell_type": "code",
      "source": [
        "import io\n",
        "import pandas as pd\n",
        "\n",
        "df = pd.read_csv(io.StringIO(uploaded['dataset.csv'].decode('utf-8')))\n",
        "print(df)"
      ],
      "metadata": {
        "colab": {
          "base_uri": "https://localhost:8080/"
        },
        "id": "jCmF9IBcZqvq",
        "outputId": "003c1221-39c0-4785-d22e-c2d3d9cd0c06"
      },
      "execution_count": 4,
      "outputs": [
        {
          "output_type": "stream",
          "name": "stdout",
          "text": [
            "                                             Question  \\\n",
            "0         Apa saja kelompok etnis utama di Indonesia?   \n",
            "1   Apa saja agama-agama besar yang dianut di Indo...   \n",
            "2         Sebutkan tiga tarian tradisional Indonesia.   \n",
            "3   Apa saja makanan tradisional yang populer di I...   \n",
            "4             Bahasa apa yang digunakan di Indonesia?   \n",
            "5                   Apakah ibu kota negara Indonesia?   \n",
            "6                        Apa moto nasional Indonesia?   \n",
            "7      Sebutkan beberapa pulau terkenal di Indonesia.   \n",
            "8               Apa alat musik tradisional Indonesia?   \n",
            "9                     Apa pakaian nasional Indonesia?   \n",
            "10  Apa sebutan untuk rumah tradisional masyarakat...   \n",
            "11  Pulau mana di Indonesia yang terkenal dengan k...   \n",
            "12         Apa nama teater wayang kulit di Indonesia?   \n",
            "13    Apa nama kota batik yang terkenal di Indonesia?   \n",
            "14                 Apa nama bunga nasional Indonesia?   \n",
            "15     Sebutkan sebuah upacara tradisional dari Bali.   \n",
            "16  Apa nama maskapai penerbangan nasional Indonesia?   \n",
            "17  Laut apa yang berbatasan dengan Indonesia di s...   \n",
            "18  Senjata tradisional Indonesia apa yang juga di...   \n",
            "19         Apa mata uang yang digunakan di Indonesia?   \n",
            "20                Apa nama lagu kebangsaan Indonesia?   \n",
            "21  Sebutkan satu senjata tradisional dari Sumater...   \n",
            "22                  Apa nama pakaian adat dari Papua?   \n",
            "23  Apa nama upacara adat untuk menyambut panen di...   \n",
            "24       Apa nama alat musik tradisional dari Maluku?   \n",
            "25                 Suku apa yang mendiami Pulau Nias?   \n",
            "26         Apa nama rumah adat dari Sumatera Selatan?   \n",
            "27        Apa nama tarian khas dari Kalimantan Timur?   \n",
            "28       Apa nama candi Buddha terbesar di Indonesia?   \n",
            "29          Apa nama pelabuhan terbesar di Indonesia?   \n",
            "\n",
            "                                               Answer  \n",
            "0   Kelompok etnis utama di Indonesia meliputi Jaw...  \n",
            "1   Islam, Kristen, Hindu, Budha, Konghucu, dan ke...  \n",
            "2            Tari Saman, Tari Kecak, dan Tari Pendet.  \n",
            "3    Rendang, nasi goreng, sate, gado-gado, dan soto.  \n",
            "4   Bahasa Indonesia adalah bahasa resmi, dengan r...  \n",
            "5                                            Jakarta.  \n",
            "6    Bhinneka Tunggal Ika (Kesatuan dalam Keragaman).  \n",
            "7   Jawa, Sumatra, Borneo (Kalimantan), Sulawesi, ...  \n",
            "8                               Gamelan dan Angklung.  \n",
            "9   Kebaya untuk wanita dan batik atau beskap untu...  \n",
            "10                                         Tongkonan.  \n",
            "11   Komodo Island, part of the Lesser Sunda Islands.  \n",
            "12                                      Wayang Kulit.  \n",
            "13                   Solo (Surakarta) and Yogyakarta.  \n",
            "14                                           Jasmine.  \n",
            "15              Ngaben (Balinese cremation ceremony).  \n",
            "16                                  Garuda Indonesia.  \n",
            "17                               The South China Sea.  \n",
            "18                                   Kris (or Keris).  \n",
            "19                                      Rupiah (IDR).  \n",
            "20                                    Indonesia Raya.  \n",
            "21                      Karih atau keris Minangkabau.  \n",
            "22              Koteka adalah baju tradisional Papua.  \n",
            "23                                      Sedekah Bumi.  \n",
            "24                                              Tifa.  \n",
            "25                                         Suku Nias.  \n",
            "26                                       Rumah Limas.  \n",
            "27                                      Tari Enggang.  \n",
            "28                                   Candi Borobudur.  \n",
            "29                           Pelabuhan Tanjung Priok.  \n"
          ]
        }
      ]
    },
    {
      "cell_type": "markdown",
      "source": [
        "# **Pemrosesan dan Pembuatan Model Chatbot Berbasis Teks**\n",
        "\n",
        "Pipeline ini menangani transformasi teks menggunakan TF-IDF dan membangun fungsi untuk menjawab pertanyaan berdasarkan kemiripan teks (cosine similarity). Dengan pendekatan ini, chatbot dapat memberikan respons yang relevan terhadap input pengguna berdasarkan data yang tersedia."
      ],
      "metadata": {
        "id": "cLLuVzPPEh1o"
      }
    },
    {
      "cell_type": "code",
      "execution_count": 7,
      "metadata": {
        "colab": {
          "base_uri": "https://localhost:8080/"
        },
        "id": "ovCwTRBupGzP",
        "outputId": "618e258e-afb8-4b1f-faba-09d86a9132b5"
      },
      "outputs": [
        {
          "output_type": "stream",
          "name": "stdout",
          "text": [
            "Kamu: apa pakaian nasional indonesia\n",
            "Chatbot: Kebaya untuk wanita dan batik atau beskap untuk pria.\n",
            "Kamu: apa makanan nasional yang populer\n",
            "Chatbot: Rendang, nasi goreng, sate, gado-gado, dan soto.\n",
            "Kamu: apa nama pelabuhan terbesar di indonesia\n",
            "Chatbot: Pelabuhan Tanjung Priok.\n",
            "Kamu: apa moto nasional indonesia\n",
            "Chatbot: Bhinneka Tunggal Ika (Kesatuan dalam Keragaman).\n",
            "Kamu: nama maskapai penerbangan nasional di indonesia\n",
            "Chatbot: Garuda Indonesia.\n",
            "Kamu: auieuoeoske\n",
            "Chatbot: Maaf, saya belum mengerti pertanyaan itu.\n",
            "Kamu: exit\n",
            "Chatbot: Sampai jumpa!\n"
          ]
        }
      ],
      "source": [
        "from sklearn.feature_extraction.text import TfidfVectorizer\n",
        "from sklearn.metrics.pairwise import cosine_similarity\n",
        "import pandas as pd\n",
        "\n",
        "df = pd.read_csv(\"dataset.csv\")\n",
        "\n",
        "vectorizer = TfidfVectorizer()\n",
        "tfidf_matrix = vectorizer.fit_transform(df[\"Question\"])\n",
        "\n",
        "def get_response(user_input):\n",
        "    user_vec = vectorizer.transform([user_input])\n",
        "    similarity = cosine_similarity(user_vec, tfidf_matrix)\n",
        "    max_sim = similarity.max()\n",
        "\n",
        "    if max_sim < 0.3:\n",
        "        return \"Maaf, saya belum mengerti pertanyaan itu.\"\n",
        "\n",
        "    best_idx = similarity.argmax()\n",
        "    return df.iloc[best_idx][\"Answer\"]\n",
        "\n",
        "while True:\n",
        "    user_input = input(\"Kamu: \")\n",
        "    if user_input.lower() == \"exit\":\n",
        "        print(\"Chatbot: Sampai jumpa!\")\n",
        "        break\n",
        "    print(\"Chatbot:\", get_response(user_input))"
      ]
    },
    {
      "cell_type": "markdown",
      "source": [
        "# *Pengelolaan dan Penyusunan Dataset Gambar*\n",
        "\n",
        "Di bagian ini, file gambar yang diunggah disusun ke dalam folder sesuai kategori (misal: mawar dan anggrek). Pengorganisasian dataset yang rapi sangat penting agar proses pelatihan model dapat berjalan dengan baik dan data mudah diakses oleh algoritma."
      ],
      "metadata": {
        "id": "SCcKfiVdEsWv"
      }
    },
    {
      "cell_type": "code",
      "source": [
        "from google.colab import files\n",
        "\n",
        "uploaded = files.upload()"
      ],
      "metadata": {
        "colab": {
          "base_uri": "https://localhost:8080/",
          "height": 108
        },
        "id": "npKgry2PsPa4",
        "outputId": "a89ae783-f176-42e2-a9bd-f4128dce8e60"
      },
      "execution_count": null,
      "outputs": [
        {
          "output_type": "display_data",
          "data": {
            "text/plain": [
              "<IPython.core.display.HTML object>"
            ],
            "text/html": [
              "\n",
              "     <input type=\"file\" id=\"files-9be59188-61b9-4fb9-b4c8-683ba8f15010\" name=\"files[]\" multiple disabled\n",
              "        style=\"border:none\" />\n",
              "     <output id=\"result-9be59188-61b9-4fb9-b4c8-683ba8f15010\">\n",
              "      Upload widget is only available when the cell has been executed in the\n",
              "      current browser session. Please rerun this cell to enable.\n",
              "      </output>\n",
              "      <script>// Copyright 2017 Google LLC\n",
              "//\n",
              "// Licensed under the Apache License, Version 2.0 (the \"License\");\n",
              "// you may not use this file except in compliance with the License.\n",
              "// You may obtain a copy of the License at\n",
              "//\n",
              "//      http://www.apache.org/licenses/LICENSE-2.0\n",
              "//\n",
              "// Unless required by applicable law or agreed to in writing, software\n",
              "// distributed under the License is distributed on an \"AS IS\" BASIS,\n",
              "// WITHOUT WARRANTIES OR CONDITIONS OF ANY KIND, either express or implied.\n",
              "// See the License for the specific language governing permissions and\n",
              "// limitations under the License.\n",
              "\n",
              "/**\n",
              " * @fileoverview Helpers for google.colab Python module.\n",
              " */\n",
              "(function(scope) {\n",
              "function span(text, styleAttributes = {}) {\n",
              "  const element = document.createElement('span');\n",
              "  element.textContent = text;\n",
              "  for (const key of Object.keys(styleAttributes)) {\n",
              "    element.style[key] = styleAttributes[key];\n",
              "  }\n",
              "  return element;\n",
              "}\n",
              "\n",
              "// Max number of bytes which will be uploaded at a time.\n",
              "const MAX_PAYLOAD_SIZE = 100 * 1024;\n",
              "\n",
              "function _uploadFiles(inputId, outputId) {\n",
              "  const steps = uploadFilesStep(inputId, outputId);\n",
              "  const outputElement = document.getElementById(outputId);\n",
              "  // Cache steps on the outputElement to make it available for the next call\n",
              "  // to uploadFilesContinue from Python.\n",
              "  outputElement.steps = steps;\n",
              "\n",
              "  return _uploadFilesContinue(outputId);\n",
              "}\n",
              "\n",
              "// This is roughly an async generator (not supported in the browser yet),\n",
              "// where there are multiple asynchronous steps and the Python side is going\n",
              "// to poll for completion of each step.\n",
              "// This uses a Promise to block the python side on completion of each step,\n",
              "// then passes the result of the previous step as the input to the next step.\n",
              "function _uploadFilesContinue(outputId) {\n",
              "  const outputElement = document.getElementById(outputId);\n",
              "  const steps = outputElement.steps;\n",
              "\n",
              "  const next = steps.next(outputElement.lastPromiseValue);\n",
              "  return Promise.resolve(next.value.promise).then((value) => {\n",
              "    // Cache the last promise value to make it available to the next\n",
              "    // step of the generator.\n",
              "    outputElement.lastPromiseValue = value;\n",
              "    return next.value.response;\n",
              "  });\n",
              "}\n",
              "\n",
              "/**\n",
              " * Generator function which is called between each async step of the upload\n",
              " * process.\n",
              " * @param {string} inputId Element ID of the input file picker element.\n",
              " * @param {string} outputId Element ID of the output display.\n",
              " * @return {!Iterable<!Object>} Iterable of next steps.\n",
              " */\n",
              "function* uploadFilesStep(inputId, outputId) {\n",
              "  const inputElement = document.getElementById(inputId);\n",
              "  inputElement.disabled = false;\n",
              "\n",
              "  const outputElement = document.getElementById(outputId);\n",
              "  outputElement.innerHTML = '';\n",
              "\n",
              "  const pickedPromise = new Promise((resolve) => {\n",
              "    inputElement.addEventListener('change', (e) => {\n",
              "      resolve(e.target.files);\n",
              "    });\n",
              "  });\n",
              "\n",
              "  const cancel = document.createElement('button');\n",
              "  inputElement.parentElement.appendChild(cancel);\n",
              "  cancel.textContent = 'Cancel upload';\n",
              "  const cancelPromise = new Promise((resolve) => {\n",
              "    cancel.onclick = () => {\n",
              "      resolve(null);\n",
              "    };\n",
              "  });\n",
              "\n",
              "  // Wait for the user to pick the files.\n",
              "  const files = yield {\n",
              "    promise: Promise.race([pickedPromise, cancelPromise]),\n",
              "    response: {\n",
              "      action: 'starting',\n",
              "    }\n",
              "  };\n",
              "\n",
              "  cancel.remove();\n",
              "\n",
              "  // Disable the input element since further picks are not allowed.\n",
              "  inputElement.disabled = true;\n",
              "\n",
              "  if (!files) {\n",
              "    return {\n",
              "      response: {\n",
              "        action: 'complete',\n",
              "      }\n",
              "    };\n",
              "  }\n",
              "\n",
              "  for (const file of files) {\n",
              "    const li = document.createElement('li');\n",
              "    li.append(span(file.name, {fontWeight: 'bold'}));\n",
              "    li.append(span(\n",
              "        `(${file.type || 'n/a'}) - ${file.size} bytes, ` +\n",
              "        `last modified: ${\n",
              "            file.lastModifiedDate ? file.lastModifiedDate.toLocaleDateString() :\n",
              "                                    'n/a'} - `));\n",
              "    const percent = span('0% done');\n",
              "    li.appendChild(percent);\n",
              "\n",
              "    outputElement.appendChild(li);\n",
              "\n",
              "    const fileDataPromise = new Promise((resolve) => {\n",
              "      const reader = new FileReader();\n",
              "      reader.onload = (e) => {\n",
              "        resolve(e.target.result);\n",
              "      };\n",
              "      reader.readAsArrayBuffer(file);\n",
              "    });\n",
              "    // Wait for the data to be ready.\n",
              "    let fileData = yield {\n",
              "      promise: fileDataPromise,\n",
              "      response: {\n",
              "        action: 'continue',\n",
              "      }\n",
              "    };\n",
              "\n",
              "    // Use a chunked sending to avoid message size limits. See b/62115660.\n",
              "    let position = 0;\n",
              "    do {\n",
              "      const length = Math.min(fileData.byteLength - position, MAX_PAYLOAD_SIZE);\n",
              "      const chunk = new Uint8Array(fileData, position, length);\n",
              "      position += length;\n",
              "\n",
              "      const base64 = btoa(String.fromCharCode.apply(null, chunk));\n",
              "      yield {\n",
              "        response: {\n",
              "          action: 'append',\n",
              "          file: file.name,\n",
              "          data: base64,\n",
              "        },\n",
              "      };\n",
              "\n",
              "      let percentDone = fileData.byteLength === 0 ?\n",
              "          100 :\n",
              "          Math.round((position / fileData.byteLength) * 100);\n",
              "      percent.textContent = `${percentDone}% done`;\n",
              "\n",
              "    } while (position < fileData.byteLength);\n",
              "  }\n",
              "\n",
              "  // All done.\n",
              "  yield {\n",
              "    response: {\n",
              "      action: 'complete',\n",
              "    }\n",
              "  };\n",
              "}\n",
              "\n",
              "scope.google = scope.google || {};\n",
              "scope.google.colab = scope.google.colab || {};\n",
              "scope.google.colab._files = {\n",
              "  _uploadFiles,\n",
              "  _uploadFilesContinue,\n",
              "};\n",
              "})(self);\n",
              "</script> "
            ]
          },
          "metadata": {}
        },
        {
          "output_type": "stream",
          "name": "stdout",
          "text": [
            "Saving mawar.jpg to mawar.jpg\n",
            "Saving anggrek.jpg to anggrek.jpg\n"
          ]
        }
      ]
    },
    {
      "cell_type": "code",
      "source": [
        "import os\n",
        "import shutil\n",
        "\n",
        "# Buat struktur folder dataset/mawar dan dataset/anggrek\n",
        "os.makedirs(\"dataset/mawar\", exist_ok=True)\n",
        "os.makedirs(\"dataset/anggrek\", exist_ok=True)\n",
        "\n",
        "# Pindahkan gambar ke folder sesuai nama file\n",
        "for filename in os.listdir():\n",
        "    if filename.startswith(\"mawar\") and filename.endswith(\".jpg\"):\n",
        "        shutil.move(filename, f\"dataset/mawar/{filename}\")\n",
        "    elif filename.startswith(\"anggrek\") and filename.endswith(\".jpg\"):\n",
        "        shutil.move(filename, f\"dataset/anggrek/{filename}\")\n",
        "\n",
        "print(\"Selesai menyusun dataset!\")"
      ],
      "metadata": {
        "colab": {
          "base_uri": "https://localhost:8080/"
        },
        "id": "VydeDoFPAUVE",
        "outputId": "647e5c3f-8315-428f-bd09-c6eacc8419ff"
      },
      "execution_count": null,
      "outputs": [
        {
          "output_type": "stream",
          "name": "stdout",
          "text": [
            "Selesai menyusun dataset!\n"
          ]
        }
      ]
    },
    {
      "cell_type": "code",
      "source": [
        "import os\n",
        "\n",
        "for root, dirs, files in os.walk(\"dataset\"):\n",
        "    print(root)\n",
        "    for file in files:\n",
        "        print(\"   \", file)"
      ],
      "metadata": {
        "colab": {
          "base_uri": "https://localhost:8080/"
        },
        "id": "vpSKWVlwOsRM",
        "outputId": "087617ec-f01d-47ae-df19-3614af075ffe"
      },
      "execution_count": null,
      "outputs": [
        {
          "output_type": "stream",
          "name": "stdout",
          "text": [
            "dataset\n",
            "dataset/anggrek\n",
            "    anggrek.jpg\n",
            "dataset/mawar\n",
            "    mawar.jpg\n"
          ]
        }
      ]
    },
    {
      "cell_type": "markdown",
      "source": [
        "# **Pembuatan, Pelatihan, dan Evaluasi Model CNN untuk Klasifikasi Gambar**\n",
        "\n",
        "Pada tahap ini, data gambar yang telah dipersiapkan melalui proses preprocessing menggunakan ImageDataGenerator diolah lebih lanjut dengan membangun model Convolutional Neural Network (CNN). Model CNN terdiri dari beberapa lapisan konvolusi dan pooling yang berfungsi mengekstrak fitur penting dari gambar untuk klasifikasi. Setelah model selesai dibangun, dilakukan pelatihan menggunakan data yang sudah disiapkan, kemudian performa model dievaluasi dengan mengukur akurasi selama proses pelatihan. Hasil evaluasi ini divisualisasikan dalam bentuk grafik yang memperlihatkan perkembangan akurasi dari epoch ke epoch, sehingga memudahkan pemahaman tentang kemampuan model dalam belajar dan memberikan gambaran kualitas model secara keseluruhan.\n"
      ],
      "metadata": {
        "id": "q_VMfc6SFFX8"
      }
    },
    {
      "cell_type": "code",
      "source": [
        "import tensorflow as tf\n",
        "from tensorflow.keras.preprocessing.image import ImageDataGenerator\n",
        "import matplotlib.pyplot as plt\n",
        "\n",
        "# Parameter\n",
        "img_size = (150, 150)\n",
        "batch_size = 1\n",
        "epochs = 5\n",
        "\n",
        "# Load gambar (tanpa validasi karena dataset sangat kecil)\n",
        "datagen = ImageDataGenerator(rescale=1./255)\n",
        "\n",
        "train_gen = datagen.flow_from_directory(\n",
        "    'dataset',\n",
        "    target_size=img_size,\n",
        "    batch_size=batch_size,\n",
        "    class_mode='categorical'\n",
        ")\n",
        "\n",
        "# CNN Model\n",
        "model = tf.keras.Sequential([\n",
        "    tf.keras.layers.Conv2D(32, (3,3), activation='relu', input_shape=(150,150,3)),\n",
        "    tf.keras.layers.MaxPooling2D(2,2),\n",
        "    tf.keras.layers.Conv2D(64, (3,3), activation='relu'),\n",
        "    tf.keras.layers.MaxPooling2D(2,2),\n",
        "    tf.keras.layers.Flatten(),\n",
        "    tf.keras.layers.Dense(64, activation='relu'),\n",
        "    tf.keras.layers.Dense(train_gen.num_classes, activation='softmax')\n",
        "])\n",
        "\n",
        "model.compile(optimizer='adam',\n",
        "              loss='categorical_crossentropy',\n",
        "              metrics=['accuracy'])\n",
        "\n",
        "# Training\n",
        "history = model.fit(\n",
        "    train_gen,\n",
        "    epochs=epochs\n",
        ")\n",
        "\n",
        "# Plot hasil\n",
        "plt.plot(history.history['accuracy'], label='Akurasi')\n",
        "plt.title(\"Akurasi Model\")\n",
        "plt.xlabel(\"Epoch\")\n",
        "plt.ylabel(\"Accuracy\")\n",
        "plt.legend()\n",
        "plt.show()\n",
        "\n",
        "# Simpan model\n",
        "model.save(\"image_classifier_model.h5\")"
      ],
      "metadata": {
        "colab": {
          "base_uri": "https://localhost:8080/",
          "height": 700
        },
        "id": "fG6_rsuTpxWI",
        "outputId": "5daefe5d-9062-495b-ca3a-2568db945e65"
      },
      "execution_count": null,
      "outputs": [
        {
          "output_type": "stream",
          "name": "stdout",
          "text": [
            "Found 2 images belonging to 2 classes.\n",
            "Epoch 1/5\n",
            "\u001b[1m2/2\u001b[0m \u001b[32m━━━━━━━━━━━━━━━━━━━━\u001b[0m\u001b[37m\u001b[0m \u001b[1m3s\u001b[0m 225ms/step - accuracy: 0.0000e+00 - loss: 1.8218\n",
            "Epoch 2/5\n",
            "\u001b[1m2/2\u001b[0m \u001b[32m━━━━━━━━━━━━━━━━━━━━\u001b[0m\u001b[37m\u001b[0m \u001b[1m1s\u001b[0m 220ms/step - accuracy: 0.6667 - loss: 0.3915\n",
            "Epoch 3/5\n",
            "\u001b[1m2/2\u001b[0m \u001b[32m━━━━━━━━━━━━━━━━━━━━\u001b[0m\u001b[37m\u001b[0m \u001b[1m1s\u001b[0m 158ms/step - accuracy: 1.0000 - loss: 0.1083\n",
            "Epoch 4/5\n",
            "\u001b[1m2/2\u001b[0m \u001b[32m━━━━━━━━━━━━━━━━━━━━\u001b[0m\u001b[37m\u001b[0m \u001b[1m0s\u001b[0m 91ms/step - accuracy: 1.0000 - loss: 0.1633\n",
            "Epoch 5/5\n",
            "\u001b[1m2/2\u001b[0m \u001b[32m━━━━━━━━━━━━━━━━━━━━\u001b[0m\u001b[37m\u001b[0m \u001b[1m0s\u001b[0m 97ms/step - accuracy: 1.0000 - loss: 0.0351\n"
          ]
        },
        {
          "output_type": "display_data",
          "data": {
            "text/plain": [
              "<Figure size 640x480 with 1 Axes>"
            ],
            "image/png": "[encoded data removed]"
          },
          "metadata": {}
        },
        {
          "output_type": "stream",
          "name": "stderr",
          "text": [
            "WARNING:absl:You are saving your model as an HDF5 file via `model.save()` or `keras.saving.save_model(model)`. This file format is considered legacy. We recommend using instead the native Keras format, e.g. `model.save('my_model.keras')` or `keras.saving.save_model(model, 'my_model.keras')`. \n"
          ]
        }
      ]
    }
  ]
}